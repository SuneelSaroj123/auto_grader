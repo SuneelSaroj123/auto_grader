{
  "nbformat": 4,
  "nbformat_minor": 0,
  "metadata": {
    "colab": {
      "name": "Autograder.ipynb",
      "provenance": [],
      "authorship_tag": "ABX9TyOs4+MM++0fpRr5k7EdoqD5",
      "include_colab_link": true
    },
    "kernelspec": {
      "name": "python3",
      "display_name": "Python 3"
    },
    "language_info": {
      "name": "python"
    }
  },
  "cells": [
    {
      "cell_type": "markdown",
      "metadata": {
        "id": "view-in-github",
        "colab_type": "text"
      },
      "source": [
        "<a href=\"https://colab.research.google.com/github/ceyxasm/auto_grader/blob/main/Autograder.ipynb\" target=\"_parent\"><img src=\"https://colab.research.google.com/assets/colab-badge.svg\" alt=\"Open In Colab\"/></a>"
      ]
    },
    {
      "cell_type": "markdown",
      "source": [
        "##Pdf to images"
      ],
      "metadata": {
        "id": "SBoRPsrylhkD"
      }
    },
    {
      "cell_type": "code",
      "source": [
        "!pip install pdf2image\n",
        "!apt-get install poppler-utils"
      ],
      "metadata": {
        "id": "u25WQCZ5w5a6",
        "colab": {
          "base_uri": "https://localhost:8080/"
        },
        "outputId": "f1daed55-952e-4634-ff2e-c7ad9ef14525"
      },
      "execution_count": 1,
      "outputs": [
        {
          "output_type": "stream",
          "name": "stdout",
          "text": [
            "Looking in indexes: https://pypi.org/simple, https://us-python.pkg.dev/colab-wheels/public/simple/\n",
            "Collecting pdf2image\n",
            "  Downloading pdf2image-1.16.0-py3-none-any.whl (10 kB)\n",
            "Requirement already satisfied: pillow in /usr/local/lib/python3.7/dist-packages (from pdf2image) (7.1.2)\n",
            "Installing collected packages: pdf2image\n",
            "Successfully installed pdf2image-1.16.0\n",
            "Reading package lists... Done\n",
            "Building dependency tree       \n",
            "Reading state information... Done\n",
            "The following package was automatically installed and is no longer required:\n",
            "  libnvidia-common-460\n",
            "Use 'apt autoremove' to remove it.\n",
            "The following NEW packages will be installed:\n",
            "  poppler-utils\n",
            "0 upgraded, 1 newly installed, 0 to remove and 19 not upgraded.\n",
            "Need to get 154 kB of archives.\n",
            "After this operation, 613 kB of additional disk space will be used.\n",
            "Get:1 http://archive.ubuntu.com/ubuntu bionic-updates/main amd64 poppler-utils amd64 0.62.0-2ubuntu2.12 [154 kB]\n",
            "Fetched 154 kB in 1s (179 kB/s)\n",
            "Selecting previously unselected package poppler-utils.\n",
            "(Reading database ... 155680 files and directories currently installed.)\n",
            "Preparing to unpack .../poppler-utils_0.62.0-2ubuntu2.12_amd64.deb ...\n",
            "Unpacking poppler-utils (0.62.0-2ubuntu2.12) ...\n",
            "Setting up poppler-utils (0.62.0-2ubuntu2.12) ...\n",
            "Processing triggers for man-db (2.8.3-2ubuntu0.1) ...\n"
          ]
        }
      ]
    },
    {
      "cell_type": "code",
      "source": [
        "from pdf2image import convert_from_path\n",
        "\n",
        "def pdf2img(filepath):\n",
        "    try:\n",
        "        images = convert_from_path(filepath)\n",
        "        i = 0\n",
        "        for img in images:\n",
        "            img.save(f'output{i}.jpg', 'JPEG')\n",
        "            i += 1\n",
        "    except:\n",
        "        print(\"No PDF found\")\n",
        "    else:\n",
        "        print(\"Success!\")\n"
      ],
      "metadata": {
        "id": "3b3_zNXKobDN"
      },
      "execution_count": 2,
      "outputs": []
    },
    {
      "cell_type": "code",
      "source": [
        "pdf2img('/content/Akhil Das.pdf')"
      ],
      "metadata": {
        "colab": {
          "base_uri": "https://localhost:8080/"
        },
        "id": "D1eKTdUAonBN",
        "outputId": "7c741326-57e1-4fc6-eaa3-c270b698d014"
      },
      "execution_count": 3,
      "outputs": [
        {
          "output_type": "stream",
          "name": "stdout",
          "text": [
            "Success!\n"
          ]
        }
      ]
    },
    {
      "cell_type": "markdown",
      "source": [
        "##segmentation"
      ],
      "metadata": {
        "id": "mbxqYhh8oWQK"
      }
    },
    {
      "cell_type": "code",
      "execution_count": null,
      "metadata": {
        "id": "3RtAs_-UoMW5"
      },
      "outputs": [],
      "source": [
        "import cv2\n",
        "import matplotlib.pyplot as plt\n",
        "import numpy as np"
      ]
    },
    {
      "cell_type": "markdown",
      "source": [
        "##Easy OCR"
      ],
      "metadata": {
        "id": "6S0h-Iaxen0m"
      }
    },
    {
      "cell_type": "code",
      "source": [
        "!pip install easyocr"
      ],
      "metadata": {
        "colab": {
          "base_uri": "https://localhost:8080/"
        },
        "id": "odDANoG4-hXx",
        "outputId": "61c0f5cc-a2b5-4e7a-c617-a79fc40daeb7"
      },
      "execution_count": 4,
      "outputs": [
        {
          "output_type": "stream",
          "name": "stdout",
          "text": [
            "Looking in indexes: https://pypi.org/simple, https://us-python.pkg.dev/colab-wheels/public/simple/\n",
            "Collecting easyocr\n",
            "  Downloading easyocr-1.5.0-py3-none-any.whl (70.8 MB)\n",
            "\u001b[K     |████████████████████████████████| 70.8 MB 16 kB/s \n",
            "\u001b[?25hRequirement already satisfied: scipy in /usr/local/lib/python3.7/dist-packages (from easyocr) (1.7.3)\n",
            "Requirement already satisfied: scikit-image in /usr/local/lib/python3.7/dist-packages (from easyocr) (0.18.3)\n",
            "Requirement already satisfied: torchvision>=0.5 in /usr/local/lib/python3.7/dist-packages (from easyocr) (0.13.0+cu113)\n",
            "Requirement already satisfied: Pillow in /usr/local/lib/python3.7/dist-packages (from easyocr) (7.1.2)\n",
            "Requirement already satisfied: torch in /usr/local/lib/python3.7/dist-packages (from easyocr) (1.12.0+cu113)\n",
            "Requirement already satisfied: numpy in /usr/local/lib/python3.7/dist-packages (from easyocr) (1.21.6)\n",
            "Collecting python-bidi\n",
            "  Downloading python_bidi-0.4.2-py2.py3-none-any.whl (30 kB)\n",
            "Requirement already satisfied: PyYAML in /usr/local/lib/python3.7/dist-packages (from easyocr) (3.13)\n",
            "Collecting opencv-python-headless<=4.5.4.60\n",
            "  Downloading opencv_python_headless-4.5.4.60-cp37-cp37m-manylinux_2_17_x86_64.manylinux2014_x86_64.whl (47.6 MB)\n",
            "\u001b[K     |████████████████████████████████| 47.6 MB 1.5 MB/s \n",
            "\u001b[?25hRequirement already satisfied: typing-extensions in /usr/local/lib/python3.7/dist-packages (from torchvision>=0.5->easyocr) (4.1.1)\n",
            "Requirement already satisfied: requests in /usr/local/lib/python3.7/dist-packages (from torchvision>=0.5->easyocr) (2.23.0)\n",
            "Requirement already satisfied: six in /usr/local/lib/python3.7/dist-packages (from python-bidi->easyocr) (1.15.0)\n",
            "Requirement already satisfied: urllib3!=1.25.0,!=1.25.1,<1.26,>=1.21.1 in /usr/local/lib/python3.7/dist-packages (from requests->torchvision>=0.5->easyocr) (1.24.3)\n",
            "Requirement already satisfied: idna<3,>=2.5 in /usr/local/lib/python3.7/dist-packages (from requests->torchvision>=0.5->easyocr) (2.10)\n",
            "Requirement already satisfied: chardet<4,>=3.0.2 in /usr/local/lib/python3.7/dist-packages (from requests->torchvision>=0.5->easyocr) (3.0.4)\n",
            "Requirement already satisfied: certifi>=2017.4.17 in /usr/local/lib/python3.7/dist-packages (from requests->torchvision>=0.5->easyocr) (2022.6.15)\n",
            "Requirement already satisfied: imageio>=2.3.0 in /usr/local/lib/python3.7/dist-packages (from scikit-image->easyocr) (2.9.0)\n",
            "Requirement already satisfied: matplotlib!=3.0.0,>=2.0.0 in /usr/local/lib/python3.7/dist-packages (from scikit-image->easyocr) (3.2.2)\n",
            "Requirement already satisfied: PyWavelets>=1.1.1 in /usr/local/lib/python3.7/dist-packages (from scikit-image->easyocr) (1.3.0)\n",
            "Requirement already satisfied: tifffile>=2019.7.26 in /usr/local/lib/python3.7/dist-packages (from scikit-image->easyocr) (2021.11.2)\n",
            "Requirement already satisfied: networkx>=2.0 in /usr/local/lib/python3.7/dist-packages (from scikit-image->easyocr) (2.6.3)\n",
            "Requirement already satisfied: kiwisolver>=1.0.1 in /usr/local/lib/python3.7/dist-packages (from matplotlib!=3.0.0,>=2.0.0->scikit-image->easyocr) (1.4.4)\n",
            "Requirement already satisfied: pyparsing!=2.0.4,!=2.1.2,!=2.1.6,>=2.0.1 in /usr/local/lib/python3.7/dist-packages (from matplotlib!=3.0.0,>=2.0.0->scikit-image->easyocr) (3.0.9)\n",
            "Requirement already satisfied: cycler>=0.10 in /usr/local/lib/python3.7/dist-packages (from matplotlib!=3.0.0,>=2.0.0->scikit-image->easyocr) (0.11.0)\n",
            "Requirement already satisfied: python-dateutil>=2.1 in /usr/local/lib/python3.7/dist-packages (from matplotlib!=3.0.0,>=2.0.0->scikit-image->easyocr) (2.8.2)\n",
            "Installing collected packages: python-bidi, opencv-python-headless, easyocr\n",
            "  Attempting uninstall: opencv-python-headless\n",
            "    Found existing installation: opencv-python-headless 4.6.0.66\n",
            "    Uninstalling opencv-python-headless-4.6.0.66:\n",
            "      Successfully uninstalled opencv-python-headless-4.6.0.66\n",
            "Successfully installed easyocr-1.5.0 opencv-python-headless-4.5.4.60 python-bidi-0.4.2\n"
          ]
        }
      ]
    },
    {
      "cell_type": "markdown",
      "source": [
        "###For english"
      ],
      "metadata": {
        "id": "m3QqSJ4D9Yz1"
      }
    },
    {
      "cell_type": "code",
      "source": [
        "import easyocr\n",
        "\n",
        "reader = easyocr.Reader(['en'])\n",
        "result = reader.readtext('/content/output0.jpg', detail=0)\n",
        "\n"
      ],
      "metadata": {
        "colab": {
          "base_uri": "https://localhost:8080/"
        },
        "id": "iKFXHORms3j_",
        "outputId": "2585a6c9-3f22-4713-a358-902f19b0e780"
      },
      "execution_count": 5,
      "outputs": [
        {
          "output_type": "stream",
          "name": "stderr",
          "text": [
            "CUDA not available - defaulting to CPU. Note: This module is much faster with a GPU.\n",
            "Downloading detection model, please wait. This may take several minutes depending upon your network connection.\n"
          ]
        },
        {
          "output_type": "stream",
          "name": "stdout",
          "text": [
            "Progress: |██████████████████████████████████████████████████| 100.0% Complete"
          ]
        },
        {
          "output_type": "stream",
          "name": "stderr",
          "text": [
            "Downloading recognition model, please wait. This may take several minutes depending upon your network connection.\n"
          ]
        },
        {
          "output_type": "stream",
          "name": "stdout",
          "text": [
            "Progress: |██████████████████████████████████████████████████| 100.0% Complete"
          ]
        },
        {
          "output_type": "stream",
          "name": "stderr",
          "text": [
            "/usr/local/lib/python3.7/dist-packages/torchvision/models/_utils.py:253: UserWarning: Accessing the model URLs via the internal dictionary of the module is deprecated since 0.13 and will be removed in 0.15. Please access them via the appropriate Weights Enum instead.\n",
            "  \"Accessing the model URLs via the internal dictionary of the module is deprecated since 0.13 and will \"\n",
            "/usr/local/lib/python3.7/dist-packages/torchvision/models/_utils.py:209: UserWarning: The parameter 'pretrained' is deprecated since 0.13 and will be removed in 0.15, please use 'weights' instead.\n",
            "  f\"The parameter '{pretrained_param}' is deprecated since 0.13 and will be removed in 0.15, \"\n",
            "/usr/local/lib/python3.7/dist-packages/torchvision/models/_utils.py:223: UserWarning: Arguments other than a weight enum or `None` for 'weights' are deprecated since 0.13 and will be removed in 0.15. The current behavior is equivalent to passing `weights=None`.\n",
            "  warnings.warn(msg)\n"
          ]
        }
      ]
    },
    {
      "cell_type": "code",
      "source": [
        "\n",
        "for line in result:\n",
        "  print(line)"
      ],
      "metadata": {
        "colab": {
          "base_uri": "https://localhost:8080/"
        },
        "id": "S_TqI7yhtiZX",
        "outputId": "70cc8508-b650-4786-bf57-5391aab27b5b"
      },
      "execution_count": 6,
      "outputs": [
        {
          "output_type": "stream",
          "name": "stdout",
          "text": [
            "Question\n",
            "This question paper consists of' [2 questions. Answer all of them.\n",
            "Please write the answer inside the box provided:\n",
            "We request You refrain from\n",
            "search engines like Google.\n",
            "Please provide one(few) word answer only:\n",
            "Please send uS the scanned copy of your answer sheet\n",
            "Note: Personal information will not be made public:\n",
            "hereby give my consent to the use of my handwritten data for academic research purposes.\n",
            "Name:\n",
            "36\n",
            "Class:\n",
            "School College:\n",
            "Signature:\n",
            "1.\n",
            "Find x: 7,17,37,67,x ?\n",
            "0 7\n",
            "2\n",
            "Who was the first Prime Minister of India?\n",
            "Pf\n",
            "JawJahas\n",
            "Gxl\n",
            "Neku\n",
            "3\n",
            "What is the capital of Lakshadweep?\n",
            "4 .\n",
            "Expand ATM.\n",
            "Iemale\n",
            "Tllx mke\n",
            "5_\n",
            "25% of 50 is?\n",
            "62.5\n",
            "Paper\n",
            "using\n",
            "Akk:l\n",
            "OaS\n",
            "Age:\n"
          ]
        }
      ]
    },
    {
      "cell_type": "code",
      "source": [
        "import easyocr\n",
        "\n",
        "reader = easyocr.Reader(['en'])\n",
        "result = reader.readtext('/content/output1.jpg', detail=0)\n",
        "\n"
      ],
      "metadata": {
        "colab": {
          "base_uri": "https://localhost:8080/"
        },
        "id": "7q9OjyQmuJJL",
        "outputId": "8631f43b-5756-4837-cb08-c14cebfc924d"
      },
      "execution_count": 7,
      "outputs": [
        {
          "output_type": "stream",
          "name": "stderr",
          "text": [
            "CUDA not available - defaulting to CPU. Note: This module is much faster with a GPU.\n",
            "/usr/local/lib/python3.7/dist-packages/torchvision/models/_utils.py:253: UserWarning: Accessing the model URLs via the internal dictionary of the module is deprecated since 0.13 and will be removed in 0.15. Please access them via the appropriate Weights Enum instead.\n",
            "  \"Accessing the model URLs via the internal dictionary of the module is deprecated since 0.13 and will \"\n",
            "/usr/local/lib/python3.7/dist-packages/torchvision/models/_utils.py:209: UserWarning: The parameter 'pretrained' is deprecated since 0.13 and will be removed in 0.15, please use 'weights' instead.\n",
            "  f\"The parameter '{pretrained_param}' is deprecated since 0.13 and will be removed in 0.15, \"\n",
            "/usr/local/lib/python3.7/dist-packages/torchvision/models/_utils.py:223: UserWarning: Arguments other than a weight enum or `None` for 'weights' are deprecated since 0.13 and will be removed in 0.15. The current behavior is equivalent to passing `weights=None`.\n",
            "  warnings.warn(msg)\n"
          ]
        }
      ]
    },
    {
      "cell_type": "code",
      "source": [
        "for line in result:\n",
        "  print(line)"
      ],
      "metadata": {
        "colab": {
          "base_uri": "https://localhost:8080/"
        },
        "id": "b-NU0z1MuOAO",
        "outputId": "1a1898e0-a982-420b-ae68-db779cca8f6e"
      },
      "execution_count": 8,
      "outputs": [
        {
          "output_type": "stream",
          "name": "stdout",
          "text": [
            "6\n",
            "Mahendra Singh Dhoni\n",
            "popularity in whieh sports?\n",
            "Ceuickel\n",
            "What iS the area o a circle with radius\n",
            "r\n",
            "Se:\n",
            "8\n",
            "What are the four main blood groups?\n",
            "Ab\n",
            "9\n",
            "In which year did India win the T-20 world cup ?\n",
            "0007\n",
            "10.\n",
            "Who is the current President of India?\n",
            "Romnnth\n",
            "Kovsrd\n",
            "11. What is Photosynthesis?\n",
            "Ps acess\n",
            "deeat 4\n",
            "Caabol\n",
            "slydalea\n",
            "hovem\n",
            "sun'r\n",
            "12.\n",
            "Write a short\n",
            "paragraph (3-4 lines) about \"my favourite city\" .\n",
            "Lodon\n",
            "6\n",
            "twh\n",
            "Cdz\n",
            "cilx\n",
            "culbtixe %\n",
            "well ges \n",
            "Aame\n",
            "Ave `\n",
            "toUlo\n",
            "Jotsm'WQ4A4\n",
            "tote\n",
            "4viv\n",
            "Laved\n",
            "J   kooj ord\n",
            "wegilhs tkne\n",
            "gained\n",
            "enea4d\n",
            "rklin\n",
            "evrgv\n",
            "M\n",
            "baxk\n",
            "'pecled\n",
            "77ll\n",
            "dd\n",
            "OnAwhvae\n",
            "{iush: _\n"
          ]
        }
      ]
    },
    {
      "cell_type": "markdown",
      "source": [
        "###For hindi"
      ],
      "metadata": {
        "id": "_PB6_VMm9c1I"
      }
    },
    {
      "cell_type": "code",
      "source": [
        "import easyocr\n",
        "\n",
        "reader = easyocr.Reader(['hi'])\n",
        "result = reader.readtext('/content/M005B.jpg', detail=0)"
      ],
      "metadata": {
        "colab": {
          "base_uri": "https://localhost:8080/"
        },
        "id": "-qTo6eyf9e4J",
        "outputId": "6f5d6cad-678e-4362-a788-eabc37784ff5"
      },
      "execution_count": 10,
      "outputs": [
        {
          "output_type": "stream",
          "name": "stderr",
          "text": [
            "CUDA not available - defaulting to CPU. Note: This module is much faster with a GPU.\n",
            "Downloading recognition model, please wait. This may take several minutes depending upon your network connection.\n"
          ]
        },
        {
          "output_type": "stream",
          "name": "stdout",
          "text": [
            "Progress: |██████████████████████████████████████████████████| 100.0% Complete"
          ]
        },
        {
          "output_type": "stream",
          "name": "stderr",
          "text": [
            "/usr/local/lib/python3.7/dist-packages/torchvision/models/_utils.py:253: UserWarning: Accessing the model URLs via the internal dictionary of the module is deprecated since 0.13 and will be removed in 0.15. Please access them via the appropriate Weights Enum instead.\n",
            "  \"Accessing the model URLs via the internal dictionary of the module is deprecated since 0.13 and will \"\n",
            "/usr/local/lib/python3.7/dist-packages/torchvision/models/_utils.py:209: UserWarning: The parameter 'pretrained' is deprecated since 0.13 and will be removed in 0.15, please use 'weights' instead.\n",
            "  f\"The parameter '{pretrained_param}' is deprecated since 0.13 and will be removed in 0.15, \"\n",
            "/usr/local/lib/python3.7/dist-packages/torchvision/models/_utils.py:223: UserWarning: Arguments other than a weight enum or `None` for 'weights' are deprecated since 0.13 and will be removed in 0.15. The current behavior is equivalent to passing `weights=None`.\n",
            "  warnings.warn(msg)\n"
          ]
        }
      ]
    },
    {
      "cell_type": "code",
      "source": [
        "for line in result:\n",
        "  print(line)"
      ],
      "metadata": {
        "colab": {
          "base_uri": "https://localhost:8080/"
        },
        "id": "YiEjkDh-_b_e",
        "outputId": "ba6ffe2b-de02-4bc8-8c87-98475666c2be"
      },
      "execution_count": 11,
      "outputs": [
        {
          "output_type": "stream",
          "name": "stdout",
          "text": [
            "6\n",
            "लियोनेल मेस्सी किस खेल में लोकप्रिय हैं?\n",
            "फुटनल\n",
            "7\n",
            "एक\n",
            "त्रिभुज के सभी कोणों का योग होता है?\n",
            ")80९\n",
            "8.\n",
            "चेचक के टीके का आविष्कार किसने किया?\n",
            "५$ वड\n",
            "७ न२\n",
            "9\n",
            "भारत ने अपना पहला क्रिकेट विश्व कप कब जीता?\n",
            ")१3\n",
            "१०. भारत के वर्तमान प्रधान मंत्री कौन हैं?\n",
            "26/07/22\n",
            "२:49\n",
            "फ़ल\n"
          ]
        }
      ]
    },
    {
      "cell_type": "code",
      "source": [
        ""
      ],
      "metadata": {
        "id": "zFBSeVeGAjjC"
      },
      "execution_count": null,
      "outputs": []
    },
    {
      "cell_type": "markdown",
      "source": [
        "##Tesseract"
      ],
      "metadata": {
        "id": "u1zeGVe7ocyu"
      }
    },
    {
      "cell_type": "code",
      "source": [
        "!sudo apt install tesseract-ocr\n",
        "!pip install pytesseract"
      ],
      "metadata": {
        "colab": {
          "base_uri": "https://localhost:8080/"
        },
        "id": "A5y6mC66okNU",
        "outputId": "df0796b7-26bf-45c9-c649-5090edf29919"
      },
      "execution_count": 1,
      "outputs": [
        {
          "output_type": "stream",
          "name": "stdout",
          "text": [
            "Reading package lists... Done\n",
            "Building dependency tree       \n",
            "Reading state information... Done\n",
            "tesseract-ocr is already the newest version (4.00~git2288-10f4998a-2).\n",
            "The following package was automatically installed and is no longer required:\n",
            "  libnvidia-common-460\n",
            "Use 'sudo apt autoremove' to remove it.\n",
            "0 upgraded, 0 newly installed, 0 to remove and 19 not upgraded.\n",
            "Looking in indexes: https://pypi.org/simple, https://us-python.pkg.dev/colab-wheels/public/simple/\n",
            "Requirement already satisfied: pytesseract in /usr/local/lib/python3.7/dist-packages (0.3.9)\n",
            "Requirement already satisfied: packaging>=21.3 in /usr/local/lib/python3.7/dist-packages (from pytesseract) (21.3)\n",
            "Requirement already satisfied: Pillow>=8.0.0 in /usr/local/lib/python3.7/dist-packages (from pytesseract) (9.2.0)\n",
            "Requirement already satisfied: pyparsing!=3.0.5,>=2.0.2 in /usr/local/lib/python3.7/dist-packages (from packaging>=21.3->pytesseract) (3.0.9)\n"
          ]
        }
      ]
    },
    {
      "cell_type": "code",
      "source": [
        "import pytesseract\n",
        "import shutil\n",
        "import os\n",
        "import random\n",
        "try:\n",
        " from PIL import Image\n",
        "except ImportError:\n",
        " import Image"
      ],
      "metadata": {
        "id": "ySGjxJbmpK_2"
      },
      "execution_count": 2,
      "outputs": []
    },
    {
      "cell_type": "code",
      "source": [
        "image_path_in_colab= \"/content/output0.jpg\"\n",
        "extractedInformation = pytesseract.image_to_string(Image.open(image_path_in_colab))\n",
        "print(extractedInformation)"
      ],
      "metadata": {
        "colab": {
          "base_uri": "https://localhost:8080/"
        },
        "id": "mNw3SF6meuFc",
        "outputId": "c2ca0108-e920-487f-a90b-0662d45e0a15"
      },
      "execution_count": 3,
      "outputs": [
        {
          "output_type": "stream",
          "name": "stdout",
          "text": [
            "Question Paper\n",
            "\n",
            "This question paper consists of 12 questions. Answer all of them.\n",
            "Please write the answer inside the box provided.\n",
            "\n",
            "We request you refrain from using search engines like Google.\n",
            "Please provide one(few) word answer only.\n",
            "\n",
            "Please send us the scanned copy of your answer sheet.\n",
            "\n",
            "Note: Personal information will not be made public.\n",
            "Thereby give my consent to the use of my handwritten data for academic research purposes.\n",
            "\n",
            "Name: Akl) Was\n",
            "\n",
            "Age: C\n",
            "Class:\n",
            "School/College:\n",
            "\n",
            "Signature: MLL\n",
            "\n",
            "1. Find x: 7,17,37,67,x ?\n",
            "\n",
            "2. Who was the first Prime Minister of India?\n",
            "\n",
            "PE Towohas Lal Nehru\n",
            "\n",
            "3. What is the capital of Lakshadweep?\n",
            "\n",
            "PO\n",
            "\n",
            "4. Expand ATM.\n",
            "\n",
            "5. 25% of 50 is?\n",
            "\n",
            "p25\n",
            "\f\n"
          ]
        }
      ]
    },
    {
      "cell_type": "code",
      "source": [
        "image_path_in_colab= \"/content/output1.jpg\"\n",
        "extractedInformation = pytesseract.image_to_string(Image.open(image_path_in_colab))\n",
        "print(extractedInformation)"
      ],
      "metadata": {
        "colab": {
          "base_uri": "https://localhost:8080/"
        },
        "id": "X94d79JWev_F",
        "outputId": "5f3f6bc7-0b53-43b2-e238-7c6be69fb8ba"
      },
      "execution_count": 4,
      "outputs": [
        {
          "output_type": "stream",
          "name": "stdout",
          "text": [
            "6. Mahendra Singh Dhoni gained popularity in which sports?\n",
            "\n",
            "= A)\n",
            "Courchel\n",
            "\n",
            "7. What is the area of a circle with radius = r?\n",
            "\n",
            "8. What are the four main blood groups?\n",
            "\n",
            "p®, AB, O\n",
            "\n",
            "9. In which year did India win the T-20 world cup ?\n",
            "\n",
            "2007]\n",
            "\n",
            "10. Who is the current President of India?\n",
            "\n",
            "Ro ™m wos Ko ind\n",
            "\n",
            "11. What is Photosynthesis?\n",
            "\n",
            "“Process op gencadlng conbolydacdes jouer\n",
            "Sun's ene :\n",
            "\n",
            "12. Write a short paragraph (3-4 lines) about \"my favourite city\".\n",
            "\n",
            "  \n",
            "     \n",
            "\n",
            " \n",
            "\n",
            "    \n",
            "\n",
            "     \n",
            "  \n",
            "\n",
            "Lendon io a Kuh cxdrmodboltan oils. ev\n",
            "\n",
            "crltinie io well sreapecled , Syme bas dnwve\n",
            "\n",
            "On MMe {| 5\n",
            "b . ot\n",
            "\n",
            "  \n",
            "  \n",
            "\n",
            "   \n",
            "\f\n"
          ]
        }
      ]
    },
    {
      "cell_type": "markdown",
      "source": [
        "###For hindi"
      ],
      "metadata": {
        "id": "DF075J9GBI_b"
      }
    },
    {
      "cell_type": "code",
      "source": [
        "image_path_in_colab= \"/content/M005B.jpg\"\n",
        "extractedInformation = pytesseract.image_to_string(Image.open(image_path_in_colab))\n",
        "print(extractedInformation)"
      ],
      "metadata": {
        "colab": {
          "base_uri": "https://localhost:8080/"
        },
        "id": "j-Pho6fvBLnD",
        "outputId": "fbc0126d-46b7-427a-ba15-38ee8ba7298a"
      },
      "execution_count": 5,
      "outputs": [
        {
          "output_type": "stream",
          "name": "stdout",
          "text": [
            "6. Teraletot ARN fra Va a arene ze\n",
            "Qe atv\n",
            "\n",
            "7. Wan Paget ds watt Breit ar ata era\n",
            "\\%O°\n",
            "\n",
            "8. dd heh HI SASH Haat Har?\n",
            "\n",
            "Bear re\n",
            "\n",
            "9. HXd a HUell Vell fHache faed HY He@ shar?\n",
            "\n",
            "93\n",
            "\n",
            "10. IR H adalat Weel AA Hier F?\n",
            "\n",
            "~~\n",
            "\n",
            "a I 7\n",
            "\f\n"
          ]
        }
      ]
    },
    {
      "cell_type": "markdown",
      "source": [
        "##CRNN + CTC"
      ],
      "metadata": {
        "id": "4gmphKmBxYid"
      }
    },
    {
      "cell_type": "code",
      "source": [
        ""
      ],
      "metadata": {
        "id": "lDDa6B87xbf5"
      },
      "execution_count": null,
      "outputs": []
    }
  ]
}